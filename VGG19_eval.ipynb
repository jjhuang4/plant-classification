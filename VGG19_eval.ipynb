{
  "nbformat": 4,
  "nbformat_minor": 0,
  "metadata": {
    "colab": {
      "provenance": [],
      "gpuType": "T4",
      "authorship_tag": "ABX9TyMCr6sqgCe9kC1nvU9wjz1o",
      "include_colab_link": true
    },
    "kernelspec": {
      "name": "python3",
      "display_name": "Python 3"
    },
    "language_info": {
      "name": "python"
    },
    "accelerator": "GPU"
  },
  "cells": [
    {
      "cell_type": "markdown",
      "metadata": {
        "id": "view-in-github",
        "colab_type": "text"
      },
      "source": [
        "<a href=\"https://colab.research.google.com/github/jjhuang4/plant-classification/blob/main/VGG19_eval.ipynb\" target=\"_parent\"><img src=\"https://colab.research.google.com/assets/colab-badge.svg\" alt=\"Open In Colab\"/></a>"
      ]
    },
    {
      "cell_type": "code",
      "execution_count": null,
      "metadata": {
        "colab": {
          "base_uri": "https://localhost:8080/"
        },
        "id": "26SHqkcI2r3Y",
        "outputId": "11a8588e-cf94-421b-aef3-0778341d8390"
      },
      "outputs": [
        {
          "output_type": "stream",
          "name": "stdout",
          "text": [
            "Requirement already satisfied: torch in /usr/local/lib/python3.10/dist-packages (2.1.0+cu118)\n",
            "Requirement already satisfied: torchvision in /usr/local/lib/python3.10/dist-packages (0.16.0+cu118)\n",
            "Requirement already satisfied: filelock in /usr/local/lib/python3.10/dist-packages (from torch) (3.12.4)\n",
            "Requirement already satisfied: typing-extensions in /usr/local/lib/python3.10/dist-packages (from torch) (4.5.0)\n",
            "Requirement already satisfied: sympy in /usr/local/lib/python3.10/dist-packages (from torch) (1.12)\n",
            "Requirement already satisfied: networkx in /usr/local/lib/python3.10/dist-packages (from torch) (3.2)\n",
            "Requirement already satisfied: jinja2 in /usr/local/lib/python3.10/dist-packages (from torch) (3.1.2)\n",
            "Requirement already satisfied: fsspec in /usr/local/lib/python3.10/dist-packages (from torch) (2023.6.0)\n",
            "Requirement already satisfied: triton==2.1.0 in /usr/local/lib/python3.10/dist-packages (from torch) (2.1.0)\n",
            "Requirement already satisfied: numpy in /usr/local/lib/python3.10/dist-packages (from torchvision) (1.23.5)\n",
            "Requirement already satisfied: requests in /usr/local/lib/python3.10/dist-packages (from torchvision) (2.31.0)\n",
            "Requirement already satisfied: pillow!=8.3.*,>=5.3.0 in /usr/local/lib/python3.10/dist-packages (from torchvision) (9.4.0)\n",
            "Requirement already satisfied: MarkupSafe>=2.0 in /usr/local/lib/python3.10/dist-packages (from jinja2->torch) (2.1.3)\n",
            "Requirement already satisfied: charset-normalizer<4,>=2 in /usr/local/lib/python3.10/dist-packages (from requests->torchvision) (3.3.0)\n",
            "Requirement already satisfied: idna<4,>=2.5 in /usr/local/lib/python3.10/dist-packages (from requests->torchvision) (3.4)\n",
            "Requirement already satisfied: urllib3<3,>=1.21.1 in /usr/local/lib/python3.10/dist-packages (from requests->torchvision) (2.0.7)\n",
            "Requirement already satisfied: certifi>=2017.4.17 in /usr/local/lib/python3.10/dist-packages (from requests->torchvision) (2023.7.22)\n",
            "Requirement already satisfied: mpmath>=0.19 in /usr/local/lib/python3.10/dist-packages (from sympy->torch) (1.3.0)\n"
          ]
        }
      ],
      "source": [
        "pip install torch torchvision"
      ]
    },
    {
      "cell_type": "markdown",
      "source": [
        "Goal: reproduce results from transfer learning with pretrained VGG-19 classifier on plant dataset\n",
        "\n",
        "Research paper:\n",
        "https://arxiv.org/ftp/arxiv/papers/2209/2209.03076.pdf\n",
        "\n",
        "Dataset:\n",
        "https://www.cvl.isy.liu.se/en/research/datasets/swedish-leaf/\n",
        "\n",
        "Medium article explaining how to set up VGG-19: https://medium.com/mlearning-ai/image-detection-using-convolutional-neural-networks-89c9e21fffa3\n"
      ],
      "metadata": {
        "id": "JqMlWNAq4W9W"
      }
    },
    {
      "cell_type": "code",
      "source": [
        "import torch\n",
        "import torch.nn as nn\n",
        "import torch.nn.functional as F\n",
        "import torch.optim as optim\n",
        "import torchvision.models as models"
      ],
      "metadata": {
        "id": "4aupamW22wZZ"
      },
      "execution_count": null,
      "outputs": []
    },
    {
      "cell_type": "markdown",
      "source": [
        "## Making use of GPU resource"
      ],
      "metadata": {
        "id": "130gUyfo8HuV"
      }
    },
    {
      "cell_type": "markdown",
      "source": [
        "Access GPU in Colab: Runtime -> Change runtime type -> Change to GPU version\n",
        "\n",
        "See this link for more info https://stackoverflow.com/questions/50560395/how-to-install-cuda-in-google-colab-gpus"
      ],
      "metadata": {
        "id": "sLqET2b06Ne8"
      }
    },
    {
      "cell_type": "code",
      "source": [
        "!nvidia-smi"
      ],
      "metadata": {
        "colab": {
          "base_uri": "https://localhost:8080/"
        },
        "id": "GpG60YOF6dXF",
        "outputId": "8daa5f8b-61ec-4dec-9849-99024d1d55c6"
      },
      "execution_count": null,
      "outputs": [
        {
          "output_type": "stream",
          "name": "stdout",
          "text": [
            "Tue Oct 24 04:20:45 2023       \n",
            "+-----------------------------------------------------------------------------+\n",
            "| NVIDIA-SMI 525.105.17   Driver Version: 525.105.17   CUDA Version: 12.0     |\n",
            "|-------------------------------+----------------------+----------------------+\n",
            "| GPU  Name        Persistence-M| Bus-Id        Disp.A | Volatile Uncorr. ECC |\n",
            "| Fan  Temp  Perf  Pwr:Usage/Cap|         Memory-Usage | GPU-Util  Compute M. |\n",
            "|                               |                      |               MIG M. |\n",
            "|===============================+======================+======================|\n",
            "|   0  Tesla T4            Off  | 00000000:00:04.0 Off |                    0 |\n",
            "| N/A   42C    P8    11W /  70W |      0MiB / 15360MiB |      0%      Default |\n",
            "|                               |                      |                  N/A |\n",
            "+-------------------------------+----------------------+----------------------+\n",
            "                                                                               \n",
            "+-----------------------------------------------------------------------------+\n",
            "| Processes:                                                                  |\n",
            "|  GPU   GI   CI        PID   Type   Process name                  GPU Memory |\n",
            "|        ID   ID                                                   Usage      |\n",
            "|=============================================================================|\n",
            "|  No running processes found                                                 |\n",
            "+-----------------------------------------------------------------------------+\n"
          ]
        }
      ]
    },
    {
      "cell_type": "code",
      "source": [
        "device = torch.device(\"cuda\" if torch.cuda.is_available() else \"cpu\")\n",
        "print('Using device:', device)\n",
        "print()\n",
        "\n",
        "#Additional Info when using cuda\n",
        "if device.type == 'cuda':\n",
        "    print(torch.cuda.get_device_name(0))\n",
        "    print('Memory Usage:')\n",
        "    print('Allocated:', round(torch.cuda.memory_allocated(0)/1024**3,1), 'GB')\n",
        "    print('Cached:   ', round(torch.cuda.memory_reserved(0)/1024**3,1), 'GB')\n",
        "\n",
        "cnn = models.vgg19(pretrained=True).features.to(device).eval()"
      ],
      "metadata": {
        "colab": {
          "base_uri": "https://localhost:8080/"
        },
        "id": "co11hII_5VKT",
        "outputId": "5a446f5d-3ad5-49ad-fe69-6a4df2814fec"
      },
      "execution_count": null,
      "outputs": [
        {
          "output_type": "stream",
          "name": "stdout",
          "text": [
            "Using device: cuda\n",
            "\n",
            "Tesla T4\n",
            "Memory Usage:\n",
            "Allocated: 0.0 GB\n",
            "Cached:    0.0 GB\n"
          ]
        },
        {
          "output_type": "stream",
          "name": "stderr",
          "text": [
            "/usr/local/lib/python3.10/dist-packages/torchvision/models/_utils.py:208: UserWarning: The parameter 'pretrained' is deprecated since 0.13 and may be removed in the future, please use 'weights' instead.\n",
            "  warnings.warn(\n",
            "/usr/local/lib/python3.10/dist-packages/torchvision/models/_utils.py:223: UserWarning: Arguments other than a weight enum or `None` for 'weights' are deprecated since 0.13 and may be removed in the future. The current behavior is equivalent to passing `weights=VGG19_Weights.IMAGENET1K_V1`. You can also use `weights=VGG19_Weights.DEFAULT` to get the most up-to-date weights.\n",
            "  warnings.warn(msg)\n",
            "Downloading: \"https://download.pytorch.org/models/vgg19-dcbb9e9d.pth\" to /root/.cache/torch/hub/checkpoints/vgg19-dcbb9e9d.pth\n",
            "100%|██████████| 548M/548M [00:05<00:00, 99.1MB/s]\n"
          ]
        }
      ]
    },
    {
      "cell_type": "markdown",
      "source": [
        "## Downloading and loading in dataset"
      ],
      "metadata": {
        "id": "vPAk1Qer8Can"
      }
    },
    {
      "cell_type": "markdown",
      "source": [
        "Swedish trees dataset separated into 15 classes of plant species, summing to around 1125 images total. Data can be downloaded from zipfiles on the site"
      ],
      "metadata": {
        "id": "vuWsS4Do8Zqg"
      }
    },
    {
      "cell_type": "code",
      "source": [
        "import os\n",
        "from io import BytesIO\n",
        "from urllib.request import urlopen\n",
        "from zipfile import ZipFile\n",
        "\n",
        "#cwd = os.getcwd()\n",
        "#zippath = cwd + \"/data\"\n",
        "#zipurl = 'https://www.cis.upenn.edu/~jshi/ped_html/PennFudanPed.zip'\n",
        "#if os.path.exists(zippath) == False:\n",
        "#    with urlopen(zipurl) as zipresp:\n",
        "#        with ZipFile(BytesIO(zipresp.read())) as zfile:\n",
        "#            zfile.extractall(zippath)\n",
        "#else:\n",
        "#    print(\"PennFudanPed dataset already exists in current working directory\")\n",
        "\n",
        "def download_zip(zipurl, folder_name):\n",
        "  cwd = os.getcwd()\n",
        "  zippath = cwd + \"/data/\" + folder_name\n",
        "  if os.path.exists(zippath) == True:\n",
        "    print(\"This dataset already exists in current working directory\")\n",
        "    return\n",
        "  with urlopen(zipurl) as zipresp:\n",
        "        with ZipFile(BytesIO(zipresp.read())) as zfile:\n",
        "            zfile.extractall(zippath)"
      ],
      "metadata": {
        "id": "hIObeHM79J-P"
      },
      "execution_count": 29,
      "outputs": []
    },
    {
      "cell_type": "code",
      "source": [
        "for num in range(1, 16):\n",
        "  link = f\"https://www.cvl.isy.liu.se/en/research/datasets/swedish-leaf/leaf{num}.zip\"\n",
        "  print(f\"Downloading from {link}\")\n",
        "  download_zip(link, \"data\"+str(num))"
      ],
      "metadata": {
        "colab": {
          "base_uri": "https://localhost:8080/"
        },
        "id": "TqdUj5gw8Xu6",
        "outputId": "261eb105-9fa5-42ff-9c36-f4a80c2cdded"
      },
      "execution_count": 32,
      "outputs": [
        {
          "output_type": "stream",
          "name": "stdout",
          "text": [
            "Downloading from https://www.cvl.isy.liu.se/en/research/datasets/swedish-leaf/leaf1.zip\n",
            "This dataset already exists in current working directory\n",
            "Downloading from https://www.cvl.isy.liu.se/en/research/datasets/swedish-leaf/leaf2.zip\n",
            "This dataset already exists in current working directory\n",
            "Downloading from https://www.cvl.isy.liu.se/en/research/datasets/swedish-leaf/leaf3.zip\n",
            "This dataset already exists in current working directory\n",
            "Downloading from https://www.cvl.isy.liu.se/en/research/datasets/swedish-leaf/leaf4.zip\n",
            "This dataset already exists in current working directory\n",
            "Downloading from https://www.cvl.isy.liu.se/en/research/datasets/swedish-leaf/leaf5.zip\n",
            "This dataset already exists in current working directory\n",
            "Downloading from https://www.cvl.isy.liu.se/en/research/datasets/swedish-leaf/leaf6.zip\n",
            "This dataset already exists in current working directory\n",
            "Downloading from https://www.cvl.isy.liu.se/en/research/datasets/swedish-leaf/leaf7.zip\n",
            "This dataset already exists in current working directory\n",
            "Downloading from https://www.cvl.isy.liu.se/en/research/datasets/swedish-leaf/leaf8.zip\n",
            "This dataset already exists in current working directory\n",
            "Downloading from https://www.cvl.isy.liu.se/en/research/datasets/swedish-leaf/leaf9.zip\n",
            "This dataset already exists in current working directory\n",
            "Downloading from https://www.cvl.isy.liu.se/en/research/datasets/swedish-leaf/leaf10.zip\n",
            "This dataset already exists in current working directory\n",
            "Downloading from https://www.cvl.isy.liu.se/en/research/datasets/swedish-leaf/leaf11.zip\n",
            "This dataset already exists in current working directory\n",
            "Downloading from https://www.cvl.isy.liu.se/en/research/datasets/swedish-leaf/leaf12.zip\n",
            "This dataset already exists in current working directory\n",
            "Downloading from https://www.cvl.isy.liu.se/en/research/datasets/swedish-leaf/leaf13.zip\n",
            "This dataset already exists in current working directory\n",
            "Downloading from https://www.cvl.isy.liu.se/en/research/datasets/swedish-leaf/leaf14.zip\n",
            "This dataset already exists in current working directory\n",
            "Downloading from https://www.cvl.isy.liu.se/en/research/datasets/swedish-leaf/leaf15.zip\n"
          ]
        }
      ]
    },
    {
      "cell_type": "code",
      "source": [
        "!touch .gitignore"
      ],
      "metadata": {
        "id": "KQjDQ1E7_Q8u"
      },
      "execution_count": 33,
      "outputs": []
    },
    {
      "cell_type": "code",
      "source": [
        "!cat .gitignore && echo \"/data\" > .gitignore"
      ],
      "metadata": {
        "id": "x3v1R3ASCJeu"
      },
      "execution_count": 41,
      "outputs": []
    },
    {
      "cell_type": "code",
      "source": [],
      "metadata": {
        "id": "27rHyTiDCLUz"
      },
      "execution_count": null,
      "outputs": []
    }
  ]
}